{
 "cells": [
  {
   "cell_type": "code",
   "execution_count": 1,
   "id": "3fcb70b4",
   "metadata": {},
   "outputs": [],
   "source": [
    "import pandas as pd\n",
    "import numpy as np"
   ]
  },
  {
   "cell_type": "code",
   "execution_count": 2,
   "id": "fc6f9df2",
   "metadata": {},
   "outputs": [],
   "source": [
    "bank_complete = pd.read_csv('bank/bank-full.csv')"
   ]
  },
  {
   "cell_type": "code",
   "execution_count": 3,
   "id": "9f6158a8",
   "metadata": {},
   "outputs": [],
   "source": [
    "bank_test = pd.read_csv('bank/bank.csv')"
   ]
  },
  {
   "cell_type": "code",
   "execution_count": 4,
   "id": "fdedd9d8",
   "metadata": {},
   "outputs": [],
   "source": [
    "bank_complete = pd.DataFrame(bank_complete)"
   ]
  },
  {
   "cell_type": "code",
   "execution_count": 5,
   "id": "f9988330",
   "metadata": {},
   "outputs": [],
   "source": [
    "bank_test = pd.DataFrame(bank_test)"
   ]
  },
  {
   "cell_type": "code",
   "execution_count": 11,
   "id": "e88c2ee3",
   "metadata": {},
   "outputs": [
    {
     "data": {
      "text/plain": [
       "age;\"job\";\"marital\";\"education\";\"default\";\"balance\";\"housing\";\"loan\";\"contact\";\"day\";\"month\";\"duration\";\"campaign\";\"pdays\";\"previous\";\"poutcome\";\"y\"    0\n",
       "dtype: int64"
      ]
     },
     "execution_count": 11,
     "metadata": {},
     "output_type": "execute_result"
    }
   ],
   "source": [
    "# using the .sum() method we now know that there is no missing value in our dataset\n",
    "bank_complete.isnull().sum()"
   ]
  },
  {
   "cell_type": "code",
   "execution_count": null,
   "id": "493c6250",
   "metadata": {},
   "outputs": [],
   "source": []
  }
 ],
 "metadata": {
  "kernelspec": {
   "display_name": "Python 3 (ipykernel)",
   "language": "python",
   "name": "python3"
  },
  "language_info": {
   "codemirror_mode": {
    "name": "ipython",
    "version": 3
   },
   "file_extension": ".py",
   "mimetype": "text/x-python",
   "name": "python",
   "nbconvert_exporter": "python",
   "pygments_lexer": "ipython3",
   "version": "3.9.7"
  }
 },
 "nbformat": 4,
 "nbformat_minor": 5
}
